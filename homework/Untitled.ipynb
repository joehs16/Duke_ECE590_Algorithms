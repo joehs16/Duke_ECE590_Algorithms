{
 "cells": [
  {
   "cell_type": "code",
   "execution_count": 73,
   "metadata": {},
   "outputs": [
    {
     "name": "stdout",
     "output_type": "stream",
     "text": [
      "--turn 0--\n",
      "knight is at  5\n",
      "dragon is at  2\n",
      "Farm is not destroyed, knight goes to 2\n",
      "dragon goes to 3\n",
      "--turn 1--\n",
      "knight is at  2\n",
      "dragon is at  3\n",
      "Farm is not destroyed, knight goes to 1\n"
     ]
    },
    {
     "ename": "IndexError",
     "evalue": "list assignment index out of range",
     "output_type": "error",
     "traceback": [
      "\u001b[0;31m---------------------------------------------------------------------------\u001b[0m",
      "\u001b[0;31mIndexError\u001b[0m                                Traceback (most recent call last)",
      "\u001b[0;32m<ipython-input-73-09ac7f14bb20>\u001b[0m in \u001b[0;36m<module>\u001b[0;34m\u001b[0m\n\u001b[1;32m     35\u001b[0m                 \u001b[0;31m#dragon destroys another farm\u001b[0m\u001b[0;34m\u001b[0m\u001b[0;34m\u001b[0m\u001b[0;34m\u001b[0m\u001b[0m\n\u001b[1;32m     36\u001b[0m                 \u001b[0mk\u001b[0m\u001b[0;34m+=\u001b[0m\u001b[0;36m1\u001b[0m\u001b[0;34m\u001b[0m\u001b[0;34m\u001b[0m\u001b[0m\n\u001b[0;32m---> 37\u001b[0;31m                 \u001b[0mfarms\u001b[0m\u001b[0;34m[\u001b[0m\u001b[0mk\u001b[0m\u001b[0;34m]\u001b[0m \u001b[0;34m=\u001b[0m \u001b[0;36m0\u001b[0m\u001b[0;34m\u001b[0m\u001b[0;34m\u001b[0m\u001b[0m\n\u001b[0m\u001b[1;32m     38\u001b[0m                 \u001b[0mprint\u001b[0m\u001b[0;34m(\u001b[0m\u001b[0;34mf'dragon goes to {k}'\u001b[0m\u001b[0;34m)\u001b[0m\u001b[0;34m\u001b[0m\u001b[0;34m\u001b[0m\u001b[0m\n\u001b[1;32m     39\u001b[0m \u001b[0;34m\u001b[0m\u001b[0m\n",
      "\u001b[0;31mIndexError\u001b[0m: list assignment index out of range"
     ]
    }
   ],
   "source": [
    "import random\n",
    "\n",
    "n = 10\n",
    "farms = [1]*n\n",
    "\n",
    "\n",
    "k = random.randint(0, n)\n",
    "destroyed_farms = [0]*k\n",
    "farms[:k] = destroyed_farms\n",
    "\n",
    "knight = n//2\n",
    "turn = 0\n",
    "\n",
    "not_destroyed_max = n\n",
    "not_destroyed_min = knight\n",
    "\n",
    "while knight != k:\n",
    "    if n == k:\n",
    "        print('The dragon has destroyed all the farms')\n",
    "        break\n",
    "    else:\n",
    "        if turn == 100:\n",
    "            break\n",
    "        else:\n",
    "            print(f'--turn {turn}--')\n",
    "            print('knight is at ',knight)\n",
    "            print('dragon is at ',k)\n",
    "            split = len(farms)//2\n",
    "            if farms[knight] == 1: #farm is not destroyed\n",
    "                farms = farms[:split]\n",
    "                #knight moves\n",
    "                knight = len(farms)//2\n",
    "                print(f'Farm is not destroyed, knight goes to {knight}')\n",
    "\n",
    "                #dragon destroys another farm\n",
    "                k+=1\n",
    "                farms[k] = 0\n",
    "                print(f'dragon goes to {k}')\n",
    "\n",
    "            elif farms[knight] == 0: #farm is destroyed\n",
    "                \n",
    "                _max = not_destroyed_max\n",
    "                _min = knight\n",
    "                \n",
    "                destroyed_min = knight\n",
    "                destroyed_max = not_destroyed_min\n",
    "                \n",
    "                #knight moves\n",
    "                knight = (_max+_min)//2\n",
    "                print(f'Farm is destroyed, knight goes to {knight}')            \n",
    "\n",
    "                #dragon destroys another farm\n",
    "                k+=1       \n",
    "                farms[k] = 0\n",
    "                print(f'dragon goes to {k}') \n",
    "                pass\n",
    "            else:\n",
    "                pass\n",
    "            turn += 1\n",
    "print(f'knight loc = {knight}, dragon loc = {k}. The dragon has been caught.')"
   ]
  },
  {
   "cell_type": "code",
   "execution_count": 25,
   "metadata": {},
   "outputs": [
    {
     "data": {
      "text/plain": [
       "0"
      ]
     },
     "execution_count": 25,
     "metadata": {},
     "output_type": "execute_result"
    }
   ],
   "source": [
    "x = 2\n",
    "random.randint(0, 2)"
   ]
  },
  {
   "cell_type": "code",
   "execution_count": 70,
   "metadata": {},
   "outputs": [],
   "source": [
    "n = 10\n",
    "farms = [1]*n + [0]\n",
    "farms\n",
    "\n",
    "split = len(farms)//2\n",
    "left =farms[:split]\n",
    "right = farms[split:]"
   ]
  },
  {
   "cell_type": "code",
   "execution_count": 71,
   "metadata": {},
   "outputs": [
    {
     "data": {
      "text/plain": [
       "[1, 1, 1, 1, 1]"
      ]
     },
     "execution_count": 71,
     "metadata": {},
     "output_type": "execute_result"
    }
   ],
   "source": [
    "left"
   ]
  },
  {
   "cell_type": "code",
   "execution_count": 72,
   "metadata": {},
   "outputs": [
    {
     "data": {
      "text/plain": [
       "[1, 1, 1, 1, 1, 0]"
      ]
     },
     "execution_count": 72,
     "metadata": {},
     "output_type": "execute_result"
    }
   ],
   "source": [
    "right"
   ]
  },
  {
   "cell_type": "code",
   "execution_count": 101,
   "metadata": {},
   "outputs": [
    {
     "name": "stdout",
     "output_type": "stream",
     "text": [
      "Element is not present in array\n"
     ]
    }
   ],
   "source": [
    "def binarySearch(arr, l, r, x): \n",
    "  \n",
    "    while l <= r: \n",
    "  \n",
    "        mid = l + (r - l) // 2; \n",
    "          \n",
    "        # Check if x is present at mid \n",
    "        if arr[mid] == x: \n",
    "            return mid \n",
    "  \n",
    "        # If x is greater, ignore left half \n",
    "        elif arr[mid] < x: \n",
    "            l = mid + 1\n",
    "  \n",
    "        # If x is smaller, ignore right half \n",
    "        else: \n",
    "            r = mid - 1\n",
    "      \n",
    "    # If we reach here, then the element \n",
    "    # was not present \n",
    "    return -1\n",
    "  \n",
    "# Driver Code \n",
    "\n",
    "n = 11\n",
    "farms = [1]*n\n",
    "\n",
    "k = 6\n",
    "farms[k] = 0\n",
    "#print(farms)\n",
    "\n",
    "  \n",
    "# Function call \n",
    "result = binarySearch(farms, 1, len(farms)-1, 0) \n",
    "  \n",
    "if result != -1: \n",
    "    print (\"Element is present at index % d\" % result) \n",
    "else: \n",
    "    print (\"Element is not present in array\") "
   ]
  },
  {
   "cell_type": "code",
   "execution_count": 104,
   "metadata": {},
   "outputs": [
    {
     "name": "stdout",
     "output_type": "stream",
     "text": [
      "Element is not present in array\n"
     ]
    }
   ],
   "source": [
    "\n",
    "n = 11\n",
    "farms = [1]*n\n",
    "\n",
    "k = 6\n",
    "farms[k] = 0\n",
    "#print(farms)\n",
    "\n",
    "  \n",
    "# Function call \n",
    "result = binarySearch(farms, 1, len(farms)-1, k) \n",
    "  \n",
    "if result != -1: \n",
    "    print (\"Element is present at index % d\" % result) \n",
    "else: \n",
    "    print (\"Element is not present in array\") "
   ]
  },
  {
   "cell_type": "code",
   "execution_count": null,
   "metadata": {},
   "outputs": [],
   "source": []
  }
 ],
 "metadata": {
  "kernelspec": {
   "display_name": "Python 3",
   "language": "python",
   "name": "python3"
  },
  "language_info": {
   "codemirror_mode": {
    "name": "ipython",
    "version": 3
   },
   "file_extension": ".py",
   "mimetype": "text/x-python",
   "name": "python",
   "nbconvert_exporter": "python",
   "pygments_lexer": "ipython3",
   "version": "3.7.9"
  }
 },
 "nbformat": 4,
 "nbformat_minor": 4
}
