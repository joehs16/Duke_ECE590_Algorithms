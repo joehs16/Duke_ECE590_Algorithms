{
 "cells": [
  {
   "cell_type": "code",
   "execution_count": 177,
   "metadata": {},
   "outputs": [],
   "source": [
    "\"\"\"\n",
    "Math 560\n",
    "Project 2\n",
    "Fall 2020\n",
    "\n",
    "p2stack.py\n",
    "\n",
    "Partner 1:\n",
    "Partner 2:\n",
    "Date:\n",
    "\"\"\"\n",
    "\n",
    "\"\"\"\n",
    "Stack Class\n",
    "\"\"\"\n",
    "class Stack:\n",
    "\n",
    "    \"\"\"\n",
    "    Class attributes:\n",
    "    stack    # The array for the stack.\n",
    "    top      # The index of the top of the stack.\n",
    "    numElems # The number of elements in the stack.\n",
    "    \"\"\"\n",
    "\n",
    "    \"\"\"\n",
    "    __init__ function to initialize the Stack.\n",
    "    Note: intially the size of the stack defaults to 3.\n",
    "    Note: the stack is initally filled with None values.\n",
    "    Note: since nothing is on the stack, top is -1.\n",
    "    \"\"\"\n",
    "    def __init__(self, size=3):\n",
    "        self.stack = [None for x in range(0,size)]\n",
    "        self.top = -1\n",
    "        self.numElems = 0\n",
    "        return\n",
    "\n",
    "    \"\"\"\n",
    "    __repr__ function to print the stack.\n",
    "    \"\"\"\n",
    "    def __repr__(self):\n",
    "        s = '[ ' + ', '.join(map(str, self.stack)) + ' ]\\n'\n",
    "        s += ('Top: %d' % self.top) + '\\n'\n",
    "        s += ('numElems: %d' % self.numElems) + '\\n'\n",
    "        return s\n",
    "\n",
    "    \"\"\"\n",
    "    isFull function to check if the stack is full.\n",
    "    \"\"\"\n",
    "    def isFull(self):\n",
    "        if self.numElems == len(self.stack):\n",
    "            #print('Stack is full')\n",
    "            return True\n",
    "        else:\n",
    "            #print('Stack is not full')\n",
    "            return False\n",
    "\n",
    "    \"\"\"\n",
    "    isEmpty function to check if the stack is empty.\n",
    "    \"\"\"\n",
    "    def isEmpty(self):\n",
    "        ##### IMPLEMENT! #####\n",
    "        if self.numElems == 0:\n",
    "            #print('Stack is empty')\n",
    "            return True\n",
    "        else:\n",
    "            #rint('Stack is not empty')\n",
    "            return False\n",
    "\n",
    "    \"\"\"\n",
    "    resize function to resize the stack by doubling its size.\n",
    "    \"\"\"\n",
    "    def resize(self):\n",
    "        ##### IMPLEMENT! #####\n",
    "        self.stack = self.stack + [None for x in range(len(test.stack))]\n",
    "        return\n",
    "\n",
    "    \"\"\"\n",
    "    push function to push a value onto the stack.\n",
    "    \"\"\"\n",
    "    def push(self, val):\n",
    "        if self.isFull() == False:\n",
    "            self.top = self.top + 1\n",
    "            self.stack[self.top] = val\n",
    "            self.numElems = self.numElems + 1\n",
    "        else:\n",
    "       \n",
    "            print('>> Out of space in the array. Resizing.')\n",
    "            self.resize()\n",
    "            self.top = self.top + 1\n",
    "            self.stack[self.top] = val\n",
    "            self.numElems = self.numElems + 1\n",
    "\n",
    "    \"\"\"\n",
    "    pop function to pop the value off the top of the stack.\n",
    "    \"\"\"\n",
    "    def pop(self):\n",
    "        if self.top >= 0:\n",
    "            popVal = self.stack[self.top]\n",
    "            self.stack[self.top] = None\n",
    "            self.numElems = self.numElems - 1\n",
    "            self.top = self.top - 1\n",
    "\n",
    "            return popVal\n",
    "        else:\n",
    "            print('>> Stack is empty.')\n",
    "            return\n"
   ]
  },
  {
   "cell_type": "code",
   "execution_count": null,
   "metadata": {},
   "outputs": [],
   "source": []
  },
  {
   "cell_type": "code",
   "execution_count": 178,
   "metadata": {},
   "outputs": [
    {
     "name": "stdout",
     "output_type": "stream",
     "text": [
      "False\n",
      "empty -> True\n",
      "3\n",
      ">>>>>>>>>>bloop\n",
      "[ 1, None, None ]\n",
      "Top: 0\n",
      "numElems: 1\n",
      "\n"
     ]
    }
   ],
   "source": [
    "test = Stack()\n",
    "print(test.isFull())\n",
    "print(\"empty ->\", test.isEmpty())\n",
    "print(len(test.stack))\n",
    "test.push(1)\n",
    "print(test)"
   ]
  },
  {
   "cell_type": "code",
   "execution_count": 179,
   "metadata": {},
   "outputs": [
    {
     "name": "stdout",
     "output_type": "stream",
     "text": [
      "3\n",
      ">>>>>>>>>>bloop\n",
      "[ 1, 2, None ]\n",
      "Top: 1\n",
      "numElems: 2\n",
      "\n",
      "3\n",
      ">>>>>>>>>>bloop\n",
      "[ 1, 2, 3 ]\n",
      "Top: 2\n",
      "numElems: 3\n",
      "\n"
     ]
    }
   ],
   "source": [
    "print(len(test.stack))\n",
    "test.push(2)\n",
    "print(test)\n",
    "print(len(test.stack))\n",
    "test.push(3)\n",
    "print(test)"
   ]
  },
  {
   "cell_type": "code",
   "execution_count": 180,
   "metadata": {},
   "outputs": [
    {
     "name": "stdout",
     "output_type": "stream",
     "text": [
      ">> Out of space in the array. Resizing.\n",
      "[ 1, 2, 3, 4, None, None ]\n",
      "Top: 3\n",
      "numElems: 4\n",
      "\n"
     ]
    }
   ],
   "source": [
    "test.push(4)\n",
    "print(test)"
   ]
  },
  {
   "cell_type": "code",
   "execution_count": 190,
   "metadata": {},
   "outputs": [
    {
     "name": "stdout",
     "output_type": "stream",
     "text": [
      ">>>>>>>>>>bloop\n",
      "[ 4, None, None, None, None, None ]\n",
      "Top: 0\n",
      "numElems: 1\n",
      "\n"
     ]
    }
   ],
   "source": [
    "test.push(4)\n",
    "print(test)"
   ]
  },
  {
   "cell_type": "code",
   "execution_count": 192,
   "metadata": {},
   "outputs": [
    {
     "name": "stdout",
     "output_type": "stream",
     "text": [
      ">> Stack is empty.\n",
      "[ None, None, None, None, None, None ]\n",
      "Top: -1\n",
      "numElems: 0\n",
      "\n",
      "None\n"
     ]
    }
   ],
   "source": [
    "x = test.pop()\n",
    "print(test)\n",
    "print(x)"
   ]
  },
  {
   "cell_type": "code",
   "execution_count": 194,
   "metadata": {},
   "outputs": [],
   "source": []
  },
  {
   "cell_type": "code",
   "execution_count": 195,
   "metadata": {},
   "outputs": [],
   "source": []
  },
  {
   "cell_type": "code",
   "execution_count": null,
   "metadata": {},
   "outputs": [],
   "source": []
  }
 ],
 "metadata": {
  "kernelspec": {
   "display_name": "Python 3",
   "language": "python",
   "name": "python3"
  },
  "language_info": {
   "codemirror_mode": {
    "name": "ipython",
    "version": 3
   },
   "file_extension": ".py",
   "mimetype": "text/x-python",
   "name": "python",
   "nbconvert_exporter": "python",
   "pygments_lexer": "ipython3",
   "version": "3.7.9"
  }
 },
 "nbformat": 4,
 "nbformat_minor": 4
}
