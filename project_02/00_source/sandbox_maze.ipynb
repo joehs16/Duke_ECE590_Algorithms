{
 "cells": [
  {
   "cell_type": "code",
<<<<<<< HEAD
   "execution_count": 16,
   "metadata": {},
   "outputs": [],
=======
   "execution_count": 35,
   "metadata": {},
   "outputs": [
    {
     "data": {
      "text/plain": [
       "'\\nMain function.\\n'"
      ]
     },
     "execution_count": 35,
     "metadata": {},
     "output_type": "execute_result"
    }
   ],
>>>>>>> 572af6c7e59303982f5ab43a46f5ea928763b586
   "source": [
    "\"\"\"\n",
    "Math 560\n",
    "Project 2\n",
    "Fall 2020\n",
    "\n",
    "project2.py\n",
    "\n",
    "Partner 1:\n",
    "Partner 2:\n",
    "Date:\n",
    "\"\"\"\n",
    "import os\n",
    "os.getcwd()\n",
    "os.chdir('../../project_02/00_source')\n",
<<<<<<< HEAD
    "# os.getcwd()"
=======
    "# os.getcwd()\n",
    "\n",
    "# Import math and other p2 files.\n",
    "import math\n",
    "from p2tests import *\n",
    "\n",
    "\n",
    "\"\"\"\n",
    "BFS/DFS function\n",
    "\n",
    "INPUTS\n",
    "maze: A Maze object representing the maze.\n",
    "alg:  A string that is either 'BFS' or 'DFS'.\n",
    "\n",
    "OUTPUTS\n",
    "path: The shortest path from maze.start to maze.exit.\n",
    "\"\"\"\n",
    "\n",
    "def bdfs(maze, alg):\n",
    "    # If the alg is not BFS or DFS, raise exception.\n",
    "    if (alg != 'BFS') and (alg != 'DFS'):\n",
    "        raise Exception('Incorrect alg! Need BFS or DFS!')\n",
    "\n",
    "    # load start and exit\n",
    "    start_v = maze.start\n",
    "    exit_v = maze.exit\n",
    "    \n",
    "    \n",
    "    for vertex in maze.adjList:\n",
    "        #all the vertices initalize as \"not visited\"\n",
    "        vertex.visted = False\n",
    "        #set previous values to none\n",
    "        vertex.prev = None\n",
    "        #set distances to infinity\n",
    "        vertex.dist = math.inf\n",
    "\n",
    "    \"\"\"\n",
    "    BFS - Breadth First Search\n",
    "    \"\"\"\n",
    "    # Start BFS\n",
    "    if (alg == 'BFS'):\n",
    "        #create an empty queue\n",
    "        frontier = Queue()\n",
    "    \n",
    "        #initialize the distance\n",
    "        start_v.dist = 0\n",
    "    \n",
    "        #add the starting location to the queue\n",
    "        frontier.push(start_v.rank)\n",
    "    \n",
    "        while frontier.isEmpty()==False:\n",
    "            #look at the first vertex in the list\n",
    "            current = frontier.pop()\n",
    "    \n",
    "            #look at all the neighbors of the current vertex\n",
    "            for neighbor in maze.adjList[current].neigh:\n",
    "                #if the vertex hasn't been visited:\n",
    "                if neighbor.dist==math.inf:\n",
    "                    #mark as visited\n",
    "                    neighbor.dist = maze.adjList[current].dist + 1\n",
    "                    #push the neighbor to the queue\n",
    "                    frontier.push(neighbor.rank)\n",
    "                    neighbor.prev = current\n",
    "                # if neighbor.dist==math.inf:\n",
    "                #     print(neighbor.rank)\n",
    "                #     frontier.push(neighbor.rank)\n",
    "                #     #print(frontier)\n",
    "                #     neighbor.dist = maze.adjList[current].dist + 1\n",
    "                #     neighbor.prev = current\n",
    "                    pass\n",
    "                pass\n",
    "            pass\n",
    "        path = [exit_v]\n",
    "        while exit_v.prev != None:\n",
    "            path.insert(0,exit_v.prev)\n",
    "            #path.append(exit_v.prev)\n",
    "            exit_v = maze.adjList[exit_v.prev]\n",
    "\n",
    "        return path\n",
    "    else:\n",
    "        pass\n",
    "    \"\"\"\n",
    "    DFS - Depth First Search\n",
    "    This code marks each vertex that is connected to the starting vertex as 'visited'\n",
    "    \"\"\"\n",
    "    # START DFS\n",
    "    #else:\n",
    "        #Step 1: Initialize\n",
    "        #EACH NODE VISITED SET TO FALSE.\n",
    "        #self.visited = False\n",
    "\n",
    "        #Step 2: Visit the first room\n",
    "        #Go to starting room\n",
    "        #Set Start.visted to True\n",
    "        #start.visit\n",
    "        #pushing to stack is visiting the room\n",
    "\n",
    "        #While the stack is not empty, pop,\n",
    "\n",
    "\n",
    "    ##### Your implementation goes here. #####\n",
    "\n",
    "    ##### Your implementation goes here. #####\n",
    "\n",
    "\"\"\"\n",
    "Main function.\n",
    "\"\"\"\n",
    "#if __name__ == \"__main__\":\n",
    "#    testMazes(False)"
>>>>>>> 572af6c7e59303982f5ab43a46f5ea928763b586
   ]
  },
  {
   "cell_type": "code",
<<<<<<< HEAD
   "execution_count": 17,
=======
   "execution_count": 42,
>>>>>>> 572af6c7e59303982f5ab43a46f5ea928763b586
   "metadata": {},
   "outputs": [],
   "source": [
    "test = Maze(0)"
   ]
  },
  {
   "cell_type": "code",
<<<<<<< HEAD
   "execution_count": 18,
=======
   "execution_count": null,
   "metadata": {},
   "outputs": [],
   "source": []
  },
  {
   "cell_type": "code",
   "execution_count": 41,
>>>>>>> 572af6c7e59303982f5ab43a46f5ea928763b586
   "metadata": {},
   "outputs": [
    {
     "name": "stdout",
     "output_type": "stream",
     "text": [
<<<<<<< HEAD
      "7\n",
      "12\n",
      "6\n",
      "8\n",
      "17\n",
      "11\n",
      "13\n",
      "22\n",
      "16\n",
      "18\n",
      "Path does not begin at start!\n",
      "Path does not exit the maze!\n",
      "\n",
      "Path is invalid!\n",
      "\n",
      "XX!XX\n",
      "X o X\n",
      "X o X\n",
      "X o X\n",
      "XX!XX\n",
      "\n"
     ]
    },
    {
     "data": {
      "image/png": "iVBORw0KGgoAAAANSUhEUgAAAOsAAADrCAYAAACICmHVAAAABHNCSVQICAgIfAhkiAAAAAlwSFlzAAALEgAACxIB0t1+/AAAADh0RVh0U29mdHdhcmUAbWF0cGxvdGxpYiB2ZXJzaW9uMy4xLjAsIGh0dHA6Ly9tYXRwbG90bGliLm9yZy+17YcXAAADVklEQVR4nO3ZsW3cQABFwV3jSrBjuwepDbtYqw2pBzu2eliFTi44AiJWTzeTksEHyIclwLnWGsDH92X3AOA2YoUIsUKEWCFCrBAhVoi4HLl5zq9rjB8nTblvD+Nl94RDXsbD7gmf1J+x1uu8dmUe+c865+Ma4/ndZvHfGlefz4c1h//z53gcaz1ffRl8BkOEWCFCrBAhVogQK0SIFSLEChFihQixQoRYIUKsECFWiBArRIgVIsQKEWKFCLFChFghQqwQIVaIECtEiBUixAoRYoUIsUKEWCFCrBAhVogQK0SIFSLEChFihQixQoRYIUKsECFWiBArRIgVIsQKEWKFCLFCxGX3gLOstXvBMU9Pv3dPOGT93L3gdnPuXvA+nKwQIVaIECtEiBUixAoRYoUIsUKEWCFCrBAhVogQK0SIFSLEChFihQixQoRYIUKsECFWiBArRIgVIsQKEWKFCLFChFghQqwQIVaIECtEiBUixAoRYoUIsUKEWCFCrBAhVogQK0SIFSLEChFihQixQoRYIUKsECFWiBArRIgVIsQKEWKFCLFChFghQqwQIVaIECtEiBUixAoRYoUIsUKEWCFCrBAhVogQK0SIFSLEChFihQixQoRYIUKsECFWiBArRIgVIsQKEWKFCLFChFghQqwQIVaIECtEiBUixAoRYoUIsUKEWCFCrBAhVogQK0SIFSLEChFihQixQoRYIUKsECFWiBArRIgVIsQKEWKFCLFChFghQqwQIVaIECtEiBUixAoRYoUIsUKEWCFCrBAhVogQK0SIFSLEChFihQixQoRYIUKsECFWiBArRIgVIsQKEWKFCLFChFghQqwQIVaIECtEiBUixAoRYoUIsUKEWCFCrBBx2T3gLHPuXnDMGr92TzhkjrV7wt1xskKEWCFCrBAhVogQK0SIFSLEChFihQixQoRYIUKsECFWiBArRIgVIsQKEWKFCLFChFghQqwQIVaIECtEiBUixAoRYoUIsUKEWCFCrBAhVogQK0SIFSLEChFihQixQoRYIUKsECFWiBArRIgVIsQKEWKFCLFChFghQqwQMddat988578xxt/z5sDd+77W+nbtwqFYgX18BkOEWCFCrBAhVogQK0SIFSLEChFihQixQsQbOcgogO6fL+QAAAAASUVORK5CYII=\n",
      "text/plain": [
       "<Figure size 288x288 with 1 Axes>"
      ]
     },
     "metadata": {
      "needs_background": "light"
     },
     "output_type": "display_data"
    }
   ],
   "source": [
    "test.solve(\"BFS\")"
=======
      "[17, 22]\n",
      "[12, 17, 22]\n",
      "[7, 12, 17, 22]\n",
      "[2, 7, 12, 17, 22]\n"
     ]
    },
    {
     "data": {
      "text/plain": [
       "[2, 7, 12, 17, 22]"
      ]
     },
     "execution_count": 41,
     "metadata": {},
     "output_type": "execute_result"
    }
   ],
   "source": [
    "bdfs(test,'BFS')"
   ]
  },
  {
   "cell_type": "code",
   "execution_count": 39,
   "metadata": {},
   "outputs": [
    {
     "ename": "IndexError",
     "evalue": "list index out of range",
     "output_type": "error",
     "traceback": [
      "\u001b[0;31m---------------------------------------------------------------------------\u001b[0m",
      "\u001b[0;31mIndexError\u001b[0m                                Traceback (most recent call last)",
      "\u001b[0;32m<ipython-input-39-8aaac938ff98>\u001b[0m in \u001b[0;36m<module>\u001b[0;34m\u001b[0m\n\u001b[1;32m      1\u001b[0m \u001b[0;31m#test.path = [2,7,12,17,22]\u001b[0m\u001b[0;34m\u001b[0m\u001b[0;34m\u001b[0m\u001b[0;34m\u001b[0m\u001b[0m\n\u001b[0;32m----> 2\u001b[0;31m \u001b[0mprint\u001b[0m\u001b[0;34m(\u001b[0m\u001b[0;34m\"path\"\u001b[0m\u001b[0;34m,\u001b[0m\u001b[0mtest\u001b[0m\u001b[0;34m.\u001b[0m\u001b[0mpath\u001b[0m\u001b[0;34m[\u001b[0m\u001b[0;36m0\u001b[0m\u001b[0;34m]\u001b[0m\u001b[0;34m)\u001b[0m\u001b[0;34m\u001b[0m\u001b[0;34m\u001b[0m\u001b[0m\n\u001b[0m\u001b[1;32m      3\u001b[0m \u001b[0mprint\u001b[0m\u001b[0;34m(\u001b[0m\u001b[0;34m\"start\"\u001b[0m\u001b[0;34m,\u001b[0m\u001b[0mtest\u001b[0m\u001b[0;34m.\u001b[0m\u001b[0mstart\u001b[0m\u001b[0;34m.\u001b[0m\u001b[0mrank\u001b[0m\u001b[0;34m)\u001b[0m\u001b[0;34m\u001b[0m\u001b[0;34m\u001b[0m\u001b[0m\n\u001b[1;32m      4\u001b[0m \u001b[0mtest\u001b[0m\u001b[0;34m.\u001b[0m\u001b[0mpath\u001b[0m\u001b[0;34m\u001b[0m\u001b[0;34m\u001b[0m\u001b[0m\n",
      "\u001b[0;31mIndexError\u001b[0m: list index out of range"
     ]
    }
   ],
   "source": [
    "#test.path = [2,7,12,17,22]\n",
    "print(\"path\",test.path[0])\n",
    "print(\"start\",test.start.rank)\n",
    "test.path"
   ]
  },
  {
   "cell_type": "code",
   "execution_count": 28,
   "metadata": {},
   "outputs": [
    {
     "name": "stdout",
     "output_type": "stream",
     "text": [
      "<class 'int'>\n"
     ]
    }
   ],
   "source": [
    "print(type(test.path[0]))"
>>>>>>> 572af6c7e59303982f5ab43a46f5ea928763b586
   ]
  },
  {
   "cell_type": "code",
   "execution_count": 29,
   "metadata": {},
   "outputs": [
    {
     "data": {
      "text/plain": [
<<<<<<< HEAD
       "[17, 12, 7, 2]"
=======
       "2"
>>>>>>> 572af6c7e59303982f5ab43a46f5ea928763b586
      ]
     },
     "execution_count": 29,
     "metadata": {},
     "output_type": "execute_result"
    }
   ],
   "source": [
<<<<<<< HEAD
    "test.path"
   ]
=======
    "test.path[0]"
   ]
  },
  {
   "cell_type": "code",
   "execution_count": 43,
   "metadata": {},
   "outputs": [
    {
     "name": "stdout",
     "output_type": "stream",
     "text": [
      "7\n",
      "12\n",
      "6\n",
      "8\n",
      "17\n",
      "11\n",
      "13\n",
      "22\n",
      "16\n",
      "18\n",
      "Path does not begin at start!\n",
      "Path does not exit the maze!\n",
      "\n",
      "Path is invalid!\n",
      "\n",
      "XX!XX\n",
      "X o X\n",
      "X o X\n",
      "X o X\n",
      "XX!XX\n",
      "\n"
     ]
    },
    {
     "data": {
      "image/png": "iVBORw0KGgoAAAANSUhEUgAAAOsAAADrCAYAAACICmHVAAAABHNCSVQICAgIfAhkiAAAAAlwSFlzAAALEgAACxIB0t1+/AAAADh0RVh0U29mdHdhcmUAbWF0cGxvdGxpYiB2ZXJzaW9uMy4xLjEsIGh0dHA6Ly9tYXRwbG90bGliLm9yZy8QZhcZAAADVklEQVR4nO3ZsW3cQABFwV3jSrBjuwepDbtYqw2pBzu2eliFTi44AiJWTzeTksEHyIclwLnWGsDH92X3AOA2YoUIsUKEWCFCrBAhVoi4HLl5zq9rjB8nTblvD+Nl94RDXsbD7gmf1J+x1uu8dmUe+c865+Ma4/ndZvHfGlefz4c1h//z53gcaz1ffRl8BkOEWCFCrBAhVogQK0SIFSLEChFihQixQoRYIUKsECFWiBArRIgVIsQKEWKFCLFChFghQqwQIVaIECtEiBUixAoRYoUIsUKEWCFCrBAhVogQK0SIFSLEChFihQixQoRYIUKsECFWiBArRIgVIsQKEWKFCLFCxGX3gLOstXvBMU9Pv3dPOGT93L3gdnPuXvA+nKwQIVaIECtEiBUixAoRYoUIsUKEWCFCrBAhVogQK0SIFSLEChFihQixQoRYIUKsECFWiBArRIgVIsQKEWKFCLFChFghQqwQIVaIECtEiBUixAoRYoUIsUKEWCFCrBAhVogQK0SIFSLEChFihQixQoRYIUKsECFWiBArRIgVIsQKEWKFCLFChFghQqwQIVaIECtEiBUixAoRYoUIsUKEWCFCrBAhVogQK0SIFSLEChFihQixQoRYIUKsECFWiBArRIgVIsQKEWKFCLFChFghQqwQIVaIECtEiBUixAoRYoUIsUKEWCFCrBAhVogQK0SIFSLEChFihQixQoRYIUKsECFWiBArRIgVIsQKEWKFCLFChFghQqwQIVaIECtEiBUixAoRYoUIsUKEWCFCrBAhVogQK0SIFSLEChFihQixQoRYIUKsECFWiBArRIgVIsQKEWKFCLFChFghQqwQIVaIECtEiBUixAoRYoUIsUKEWCFCrBBx2T3gLHPuXnDMGr92TzhkjrV7wt1xskKEWCFCrBAhVogQK0SIFSLEChFihQixQoRYIUKsECFWiBArRIgVIsQKEWKFCLFChFghQqwQIVaIECtEiBUixAoRYoUIsUKEWCFCrBAhVogQK0SIFSLEChFihQixQoRYIUKsECFWiBArRIgVIsQKEWKFCLFChFghQqwQMddat988578xxt/z5sDd+77W+nbtwqFYgX18BkOEWCFCrBAhVogQK0SIFSLEChFihQixQsQbOcgogO6fL+QAAAAASUVORK5CYII=\n",
      "text/plain": [
       "<Figure size 288x288 with 1 Axes>"
      ]
     },
     "metadata": {
      "needs_background": "light"
     },
     "output_type": "display_data"
    }
   ],
   "source": [
    "test.solve('BFS')"
   ]
  },
  {
   "cell_type": "code",
   "execution_count": 6,
   "metadata": {},
   "outputs": [
    {
     "ename": "TypeError",
     "evalue": "solve() missing 1 required positional argument: 'alg'",
     "output_type": "error",
     "traceback": [
      "\u001b[0;31m---------------------------------------------------------------------------\u001b[0m",
      "\u001b[0;31mTypeError\u001b[0m                                 Traceback (most recent call last)",
      "\u001b[0;32m<ipython-input-6-1c2d8c17247e>\u001b[0m in \u001b[0;36m<module>\u001b[0;34m\u001b[0m\n\u001b[0;32m----> 1\u001b[0;31m \u001b[0mtest\u001b[0m\u001b[0;34m.\u001b[0m\u001b[0msolve\u001b[0m\u001b[0;34m(\u001b[0m\u001b[0;34m)\u001b[0m\u001b[0;34m\u001b[0m\u001b[0;34m\u001b[0m\u001b[0m\n\u001b[0m",
      "\u001b[0;31mTypeError\u001b[0m: solve() missing 1 required positional argument: 'alg'"
     ]
    }
   ],
   "source": []
>>>>>>> 572af6c7e59303982f5ab43a46f5ea928763b586
  },
  {
   "cell_type": "code",
   "execution_count": 8,
   "metadata": {},
   "outputs": [
    {
     "data": {
      "text/plain": [
       "[[0, 0, 0, 0, 0, 0, 0, 0, 0, 0, 0, 0, 0, 0, 0, 0, 0, 0, 0, 0, 0, 0, 0, 0, 0],\n",
       " [0, 0, 0, 0, 0, 0, 0, 0, 0, 0, 0, 0, 0, 0, 0, 0, 0, 0, 0, 0, 0, 0, 0, 0, 0],\n",
       " [0, 0, 0, 0, 0, 0, 0, 1, 0, 0, 0, 0, 0, 0, 0, 0, 0, 0, 0, 0, 0, 0, 0, 0, 0],\n",
       " [0, 0, 0, 0, 0, 0, 0, 0, 0, 0, 0, 0, 0, 0, 0, 0, 0, 0, 0, 0, 0, 0, 0, 0, 0],\n",
       " [0, 0, 0, 0, 0, 0, 0, 0, 0, 0, 0, 0, 0, 0, 0, 0, 0, 0, 0, 0, 0, 0, 0, 0, 0],\n",
       " [0, 0, 0, 0, 0, 0, 0, 0, 0, 0, 0, 0, 0, 0, 0, 0, 0, 0, 0, 0, 0, 0, 0, 0, 0],\n",
       " [0, 0, 0, 0, 0, 0, 0, 1, 0, 0, 0, 1, 0, 0, 0, 0, 0, 0, 0, 0, 0, 0, 0, 0, 0],\n",
       " [0, 0, 1, 0, 0, 0, 1, 0, 1, 0, 0, 0, 1, 0, 0, 0, 0, 0, 0, 0, 0, 0, 0, 0, 0],\n",
       " [0, 0, 0, 0, 0, 0, 0, 1, 0, 0, 0, 0, 0, 1, 0, 0, 0, 0, 0, 0, 0, 0, 0, 0, 0],\n",
       " [0, 0, 0, 0, 0, 0, 0, 0, 0, 0, 0, 0, 0, 0, 0, 0, 0, 0, 0, 0, 0, 0, 0, 0, 0],\n",
       " [0, 0, 0, 0, 0, 0, 0, 0, 0, 0, 0, 0, 0, 0, 0, 0, 0, 0, 0, 0, 0, 0, 0, 0, 0],\n",
       " [0, 0, 0, 0, 0, 0, 1, 0, 0, 0, 0, 0, 1, 0, 0, 0, 1, 0, 0, 0, 0, 0, 0, 0, 0],\n",
       " [0, 0, 0, 0, 0, 0, 0, 1, 0, 0, 0, 1, 0, 1, 0, 0, 0, 1, 0, 0, 0, 0, 0, 0, 0],\n",
       " [0, 0, 0, 0, 0, 0, 0, 0, 1, 0, 0, 0, 1, 0, 0, 0, 0, 0, 1, 0, 0, 0, 0, 0, 0],\n",
       " [0, 0, 0, 0, 0, 0, 0, 0, 0, 0, 0, 0, 0, 0, 0, 0, 0, 0, 0, 0, 0, 0, 0, 0, 0],\n",
       " [0, 0, 0, 0, 0, 0, 0, 0, 0, 0, 0, 0, 0, 0, 0, 0, 0, 0, 0, 0, 0, 0, 0, 0, 0],\n",
       " [0, 0, 0, 0, 0, 0, 0, 0, 0, 0, 0, 1, 0, 0, 0, 0, 0, 1, 0, 0, 0, 0, 0, 0, 0],\n",
       " [0, 0, 0, 0, 0, 0, 0, 0, 0, 0, 0, 0, 1, 0, 0, 0, 1, 0, 1, 0, 0, 0, 1, 0, 0],\n",
       " [0, 0, 0, 0, 0, 0, 0, 0, 0, 0, 0, 0, 0, 1, 0, 0, 0, 1, 0, 0, 0, 0, 0, 0, 0],\n",
       " [0, 0, 0, 0, 0, 0, 0, 0, 0, 0, 0, 0, 0, 0, 0, 0, 0, 0, 0, 0, 0, 0, 0, 0, 0],\n",
       " [0, 0, 0, 0, 0, 0, 0, 0, 0, 0, 0, 0, 0, 0, 0, 0, 0, 0, 0, 0, 0, 0, 0, 0, 0],\n",
       " [0, 0, 0, 0, 0, 0, 0, 0, 0, 0, 0, 0, 0, 0, 0, 0, 0, 0, 0, 0, 0, 0, 0, 0, 0],\n",
       " [0, 0, 0, 0, 0, 0, 0, 0, 0, 0, 0, 0, 0, 0, 0, 0, 0, 1, 0, 0, 0, 0, 0, 0, 0],\n",
       " [0, 0, 0, 0, 0, 0, 0, 0, 0, 0, 0, 0, 0, 0, 0, 0, 0, 0, 0, 0, 0, 0, 0, 0, 0],\n",
       " [0, 0, 0, 0, 0, 0, 0, 0, 0, 0, 0, 0, 0, 0, 0, 0, 0, 0, 0, 0, 0, 0, 0, 0, 0]]"
      ]
     },
     "execution_count": 8,
     "metadata": {},
     "output_type": "execute_result"
    }
   ],
   "source": [
    "test.adjMat"
   ]
  },
  {
   "cell_type": "code",
   "execution_count": 9,
   "metadata": {},
   "outputs": [],
   "source": [
    "test.plot_maze_solution()"
   ]
  },
  {
   "cell_type": "code",
   "execution_count": 10,
   "metadata": {},
   "outputs": [
    {
     "data": {
      "text/plain": [
       "('', 'XXsXX\\nX   X\\nX   X\\nX   X\\nXXeXX\\n')"
      ]
     },
     "execution_count": 10,
     "metadata": {},
     "output_type": "execute_result"
    }
   ],
   "source": [
    "test.printMaze()"
   ]
  },
  {
   "cell_type": "code",
   "execution_count": 173,
   "metadata": {},
   "outputs": [
    {
     "data": {
      "text/plain": [
       "2"
      ]
     },
     "execution_count": 173,
     "metadata": {},
     "output_type": "execute_result"
    }
   ],
   "source": [
    "type(test.start)\n",
    "test.start"
   ]
  },
  {
   "cell_type": "code",
   "execution_count": 174,
   "metadata": {},
   "outputs": [
    {
     "data": {
      "text/plain": [
       "22"
      ]
     },
     "execution_count": 174,
     "metadata": {},
     "output_type": "execute_result"
    }
   ],
   "source": [
    "test.exit"
   ]
  },
  {
   "cell_type": "code",
   "execution_count": 175,
   "metadata": {},
   "outputs": [],
   "source": [
    "#extracted from p2maze.py\n",
    "maze_0 = [[1,1,0,1,1],\\\n",
    "         [1,0,0,0,1],\\\n",
    "         [1,0,0,0,1],\\\n",
    "         [1,0,0,0,1],\\\n",
    "         [1,1,0,1,1],]"
   ]
  },
  {
   "cell_type": "code",
   "execution_count": 12,
   "metadata": {},
   "outputs": [],
   "source": [
    "test.path = [2,7,12,17,22]"
   ]
  },
  {
   "cell_type": "code",
   "execution_count": 13,
   "metadata": {},
   "outputs": [
    {
     "data": {
      "text/plain": [
       "('Path does not exit the maze!\\n\\nPath is invalid!\\n\\n',\n",
       " 'XXsXX\\nX o X\\nX o X\\nX o X\\nXX!XX\\n')"
      ]
     },
     "execution_count": 13,
     "metadata": {},
     "output_type": "execute_result"
    }
   ],
   "source": [
    "test.printMaze()"
   ]
  },
  {
   "cell_type": "code",
   "execution_count": 178,
   "metadata": {},
   "outputs": [],
   "source": [
    "plt.show()"
   ]
  },
  {
   "cell_type": "code",
   "execution_count": 179,
   "metadata": {},
   "outputs": [
    {
     "data": {
      "text/plain": [
       "2"
      ]
     },
     "execution_count": 179,
     "metadata": {},
     "output_type": "execute_result"
    }
   ],
   "source": [
    "test.start"
   ]
  },
  {
   "cell_type": "code",
   "execution_count": 180,
   "metadata": {},
   "outputs": [
    {
     "data": {
      "text/plain": [
       "5"
      ]
     },
     "execution_count": 180,
     "metadata": {},
     "output_type": "execute_result"
    }
   ],
   "source": [
    "test.adjList[0 + len(test.maze[0])]"
   ]
  },
  {
   "cell_type": "code",
   "execution_count": 181,
   "metadata": {},
   "outputs": [
    {
     "name": "stdout",
     "output_type": "stream",
     "text": [
      "2\n",
      "[7]\n"
     ]
    }
   ],
   "source": [
    "for ind in range(0,len(test.maze[0])): ## every column in the first row\n",
    "            if test.maze[0][ind] == 0:\n",
    "                test.start = test.adjList[ind]\n",
    "                print(test.start)\n",
    "                test.start.neigh = [test.adjList[ind + len(test.maze[0])]]\n",
    "                print(test.start.neigh)\n",
    "                test.adjMat[ind][ind + len(test.maze[0])] = 1\n",
    "                break"
   ]
  },
  {
   "cell_type": "code",
   "execution_count": 182,
   "metadata": {},
   "outputs": [
    {
     "data": {
      "text/plain": [
       "5"
      ]
     },
     "execution_count": 182,
     "metadata": {},
     "output_type": "execute_result"
    }
   ],
   "source": [
    "len(test.maze[0])"
   ]
  },
  {
   "cell_type": "code",
   "execution_count": 185,
   "metadata": {},
   "outputs": [],
   "source": [
    "test_list = Queue()"
   ]
  },
  {
   "cell_type": "code",
   "execution_count": 186,
   "metadata": {},
   "outputs": [],
   "source": [
    "test_list.push(1)"
   ]
  },
  {
   "cell_type": "code",
   "execution_count": 187,
   "metadata": {},
   "outputs": [
    {
     "data": {
      "text/plain": [
       "p2queue.Queue"
      ]
     },
     "execution_count": 187,
     "metadata": {},
     "output_type": "execute_result"
    }
   ],
   "source": [
    "type(test_list)"
   ]
  },
  {
   "cell_type": "code",
   "execution_count": 188,
   "metadata": {},
   "outputs": [
    {
     "name": "stdout",
     "output_type": "stream",
     "text": [
      "[ 1, None, None ]\n",
      "Front: 0\n",
      "Rear: 1\n",
      "numElems: 1\n",
      "\n"
     ]
    }
   ],
   "source": [
    "print(test_list)"
   ]
  },
  {
   "cell_type": "code",
   "execution_count": 190,
   "metadata": {},
   "outputs": [
    {
     "data": {
      "text/plain": [
       "list"
      ]
     },
     "execution_count": 190,
     "metadata": {},
     "output_type": "execute_result"
    }
   ],
   "source": [
    "type(test_list.queue)"
   ]
  },
  {
   "cell_type": "code",
   "execution_count": null,
   "metadata": {},
   "outputs": [],
   "source": []
  }
 ],
 "metadata": {
  "kernelspec": {
   "display_name": "Python 3",
   "language": "python",
   "name": "python3"
  },
  "language_info": {
   "codemirror_mode": {
    "name": "ipython",
    "version": 3
   },
   "file_extension": ".py",
   "mimetype": "text/x-python",
   "name": "python",
   "nbconvert_exporter": "python",
   "pygments_lexer": "ipython3",
   "version": "3.7.3"
  }
 },
 "nbformat": 4,
 "nbformat_minor": 4
}
